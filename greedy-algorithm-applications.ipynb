{
 "cells": [
  {
   "cell_type": "markdown",
   "id": "c41c20aa",
   "metadata": {},
   "source": [
    "# TSP - Traveling Saleman Problem"
   ]
  },
  {
   "cell_type": "code",
   "execution_count": 22,
   "id": "e812a969",
   "metadata": {},
   "outputs": [],
   "source": [
    "import random\n",
    "from itertools import permutations\n",
    "alltours = permutations \n",
    "\n",
    "def distance_tour(aTour):\n",
    "    return sum(distance_points(aTour[i - 1], aTour[i]) \n",
    "               for i in range(len(aTour)))\n",
    "\n",
    "aCity = complex\n",
    "\n",
    "def distance_points(first, second): return abs(first - second)\n",
    "\n",
    "def generate_cities (number_of_cities):\n",
    "    seed=111;width=500;height=300\n",
    "    random.seed((number_of_cities, seed))\n",
    "    return frozenset(aCity(random.randint(1, width), random.randint(1, height))\n",
    "                     for c in range(number_of_cities))"
   ]
  },
  {
   "cell_type": "code",
   "execution_count": 23,
   "id": "ff95b9cb",
   "metadata": {},
   "outputs": [],
   "source": [
    "%matplotlib inline\n",
    "import matplotlib.pyplot as plt\n",
    "def visualize_tour(tour, style='bo-'): \n",
    "    if len(tour) > 1000: plt.figure(figsize=(15, 10))\n",
    "    start = tour[0:1]\n",
    "    visualize_segment(tour + start, style)\n",
    "    visualize_segment(start, 'rD') \n",
    "    \n",
    "def visualize_segment (segment, style='bo-'):\n",
    "    plt.plot([X(c) for c in segment], [Y(c) for c in segment], style, clip_on=False)\n",
    "    plt.axis('scaled')\n",
    "    plt.axis('off')\n",
    "    \n",
    "def X(city): \"X axis\"; return city.real\n",
    "def Y(city): \"Y axis\"; return city.imag"
   ]
  },
  {
   "cell_type": "code",
   "execution_count": 24,
   "id": "e32cf925",
   "metadata": {},
   "outputs": [],
   "source": [
    "def greedy_algorithm(cities, start=None):\n",
    "    C = start or first(cities)\n",
    "    tour = [C]\n",
    "    unvisited = set(cities - {C})\n",
    "    while unvisited:\n",
    "        C = nearest_neighbor(C, unvisited)\n",
    "        tour.append(C)\n",
    "        unvisited.remove(C)\n",
    "    return tour\n",
    "\n",
    "def first(collection): return next(iter(collection))\n",
    "\n",
    "def nearest_neighbor(A, cities):\n",
    "    return min(cities, key=lambda C: distance_points(C, A))"
   ]
  },
  {
   "cell_type": "code",
   "execution_count": 25,
   "id": "5c2d4994",
   "metadata": {},
   "outputs": [],
   "source": [
    "import time\n",
    "from collections import Counter\n",
    "\n",
    "def tsp(algorithm, cities):\n",
    "    t0 = time.time()\n",
    "    tour = algorithm(cities)\n",
    "    t1 = time.time()\n",
    "    assert Counter(tour) == Counter(cities) # Every city appears exactly once in tour\n",
    "    visualize_tour(tour)\n",
    "    print(\"{}: {} cities -> tour length {:.0f} in {:.3f} sec\".format(\n",
    "    name(algorithm), len(tour), distance_tour(tour), t1-t0))\n",
    "def name(algorithm): return algorithm.__name__.replace('_tsp', '')"
   ]
  },
  {
   "cell_type": "code",
   "execution_count": 26,
   "id": "001bcfd5",
   "metadata": {},
   "outputs": [
    {
     "name": "stdout",
     "output_type": "stream",
     "text": [
      "greedy_algorithm: 100 cities -> tour length 3482 in 0.002 sec\n"
     ]
    },
    {
     "name": "stderr",
     "output_type": "stream",
     "text": [
      "C:\\Users\\easyb\\AppData\\Local\\Temp\\ipykernel_18808\\2213526695.py:15: DeprecationWarning: Seeding based on hashing is deprecated\n",
      "since Python 3.9 and will be removed in a subsequent version. The only \n",
      "supported seed types are: None, int, float, str, bytes, and bytearray.\n",
      "  random.seed((number_of_cities, seed))\n"
     ]
    },
    {
     "data": {
      "image/png": "[encoded data removed]",
      "text/plain": [
       "<Figure size 640x480 with 1 Axes>"
      ]
     },
     "metadata": {},
     "output_type": "display_data"
    }
   ],
   "source": [
    "tsp(greedy_algorithm, generate_cities(100))"
   ]
  },
  {
   "cell_type": "code",
   "execution_count": 27,
   "id": "5bf51142",
   "metadata": {},
   "outputs": [
    {
     "name": "stderr",
     "output_type": "stream",
     "text": [
      "C:\\Users\\easyb\\AppData\\Local\\Temp\\ipykernel_18808\\2213526695.py:15: DeprecationWarning: Seeding based on hashing is deprecated\n",
      "since Python 3.9 and will be removed in a subsequent version. The only \n",
      "supported seed types are: None, int, float, str, bytes, and bytearray.\n",
      "  random.seed((number_of_cities, seed))\n"
     ]
    },
    {
     "data": {
      "text/plain": [
       "frozenset({(100+259j),\n",
       "           (102+118j),\n",
       "           (105+95j),\n",
       "           (109+84j),\n",
       "           (115+263j),\n",
       "           (12+172j),\n",
       "           (12+193j),\n",
       "           (124+47j),\n",
       "           (129+155j),\n",
       "           (131+114j),\n",
       "           (133+138j),\n",
       "           (136+225j),\n",
       "           (138+244j),\n",
       "           (139+235j),\n",
       "           (143+259j),\n",
       "           (156+213j),\n",
       "           (165+33j),\n",
       "           (166+130j),\n",
       "           (19+243j),\n",
       "           (19+8j),\n",
       "           (201+145j),\n",
       "           (21+243j),\n",
       "           (211+9j),\n",
       "           (212+164j),\n",
       "           (212+276j),\n",
       "           (213+158j),\n",
       "           (220+134j),\n",
       "           (221+237j),\n",
       "           (224+152j),\n",
       "           (23+8j),\n",
       "           (231+222j),\n",
       "           (234+157j),\n",
       "           (246+125j),\n",
       "           (247+238j),\n",
       "           (255+290j),\n",
       "           (255+95j),\n",
       "           (256+240j),\n",
       "           (260+88j),\n",
       "           (265+186j),\n",
       "           (275+253j),\n",
       "           (289+253j),\n",
       "           (29+156j),\n",
       "           (29+280j),\n",
       "           (30+93j),\n",
       "           (302+293j),\n",
       "           (306+255j),\n",
       "           (308+275j),\n",
       "           (308+296j),\n",
       "           (312+153j),\n",
       "           (312+296j),\n",
       "           (315+240j),\n",
       "           (321+244j),\n",
       "           (323+121j),\n",
       "           (324+2j),\n",
       "           (339+287j),\n",
       "           (343+129j),\n",
       "           (344+169j),\n",
       "           (349+180j),\n",
       "           (353+298j),\n",
       "           (357+147j),\n",
       "           (357+30j),\n",
       "           (361+124j),\n",
       "           (367+122j),\n",
       "           (370+237j),\n",
       "           (375+216j),\n",
       "           (380+295j),\n",
       "           (380+57j),\n",
       "           (387+258j),\n",
       "           (391+155j),\n",
       "           (394+78j),\n",
       "           (395+30j),\n",
       "           (395+36j),\n",
       "           (396+201j),\n",
       "           (403+161j),\n",
       "           (415+33j),\n",
       "           (417+283j),\n",
       "           (422+233j),\n",
       "           (434+128j),\n",
       "           (434+140j),\n",
       "           (44+140j),\n",
       "           (446+160j),\n",
       "           (449+106j),\n",
       "           (45+48j),\n",
       "           (457+210j),\n",
       "           (463+145j),\n",
       "           (481+94j),\n",
       "           (485+233j),\n",
       "           (494+240j),\n",
       "           (498+195j),\n",
       "           (499+168j),\n",
       "           (61+149j),\n",
       "           (64+241j),\n",
       "           (65+219j),\n",
       "           (70+145j),\n",
       "           (70+60j),\n",
       "           (71+278j),\n",
       "           (76+268j),\n",
       "           (85+268j),\n",
       "           (86+55j),\n",
       "           (90+104j)})"
      ]
     },
     "execution_count": 27,
     "metadata": {},
     "output_type": "execute_result"
    }
   ],
   "source": [
    "generate_cities(100)"
   ]
  },
  {
   "cell_type": "code",
   "execution_count": 31,
   "id": "b9be27e0",
   "metadata": {},
   "outputs": [
    {
     "data": {
      "text/plain": [
       "223"
      ]
     },
     "execution_count": 31,
     "metadata": {},
     "output_type": "execute_result"
    }
   ],
   "source": [
    "random.randint(1, 500)"
   ]
  },
  {
   "cell_type": "code",
   "execution_count": null,
   "id": "0035f3ea",
   "metadata": {},
   "outputs": [],
   "source": []
  }
 ],
 "metadata": {
  "kernelspec": {
   "display_name": "Python 3 (ipykernel)",
   "language": "python",
   "name": "python3"
  },
  "language_info": {
   "codemirror_mode": {
    "name": "ipython",
    "version": 3
   },
   "file_extension": ".py",
   "mimetype": "text/x-python",
   "name": "python",
   "nbconvert_exporter": "python",
   "pygments_lexer": "ipython3",
   "version": "3.10.10"
  }
 },
 "nbformat": 4,
 "nbformat_minor": 5
}
